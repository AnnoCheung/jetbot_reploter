{
 "cells": [
  {
   "cell_type": "markdown",
   "metadata": {},
   "source": [
    "## JetBot Version"
   ]
  },
  {
   "cell_type": "code",
   "execution_count": null,
   "metadata": {},
   "outputs": [],
   "source": [
    "from jupyter_clickable_image_widget import ClickableImageWidget\n",
    "\n",
    "import ipywidgets\n",
    "import traitlets\n",
    "import ipywidgets.widgets as widgets\n",
    "from IPython.display import display\n",
    "\n",
    "import cv2, os, glob"
   ]
  },
  {
   "cell_type": "code",
   "execution_count": null,
   "metadata": {},
   "outputs": [],
   "source": [
    "try:\n",
    "    os.chdir('dataset_xy_5')\n",
    "except:\n",
    "    pass\n",
    "file_list = glob.glob('*.jpg')\n",
    "#global i\n",
    "i = 0\n",
    "#global cur_img\n",
    "cur_img = file_list[i]\n",
    "#print(len(file_list))\n",
    "#print(file_list)"
   ]
  },
  {
   "cell_type": "code",
   "execution_count": null,
   "metadata": {},
   "outputs": [],
   "source": [
    "#Change curImgWidget to ClickableImageWidget\n",
    "#curImgWidget = widgets.Image(width=224, length=224)\n",
    "curImgWidget = ClickableImageWidget(width=224, length=224)\n",
    "curImgWidget.value = cv2.imencode('.jpg', cv2.imread(cur_img, cv2.IMREAD_UNCHANGED))[1].tobytes()\n",
    "originalXYWidget = widgets.Image(width=224, length=224)\n",
    "snapshotWidget = widgets.Image(width=224, length=224)\n",
    "PreButt = widgets.Button(description='Previous Image')\n",
    "NextButt = widgets.Button(description='Next Image')\n",
    "\n",
    "count_widget = ipywidgets.IntText(description='Image Position')"
   ]
  },
  {
   "cell_type": "code",
   "execution_count": null,
   "metadata": {},
   "outputs": [],
   "source": [
    "def annotate_img_cv2():\n",
    "    global cur_img\n",
    "    x = int(get_current_file_xy(cur_img)[0])\n",
    "    y = int(get_current_file_xy(cur_img)[1])\n",
    "    return cv2.imencode('.jpg', cv2.circle(cv2.imread(cur_img, cv2.IMREAD_UNCHANGED), (x, y), 8, (255, 0, 0), 3))[1].tobytes()"
   ]
  },
  {
   "cell_type": "code",
   "execution_count": null,
   "metadata": {},
   "outputs": [],
   "source": [
    "def get_current_file_xy(file_name):\n",
    "    xy_list = [file_name[3] + file_name[4] + file_name[5], file_name[7] + file_name[8] + file_name[9]]\n",
    "    return xy_list\n",
    "\n",
    "def edit_name(img_name, x, y, xy_len, start_x, start_y):\n",
    "    #x, y = str(x), str(y)\n",
    "    tem_list=[]\n",
    "    tem_str=\"\"\n",
    "    for b in img_name:\n",
    "        tem_list.append(b)\n",
    "    for b in range(xy_len):\n",
    "        tem_list[(start_x)+b]=x[b]\n",
    "    for b in range(xy_len):\n",
    "        tem_list[(start_y)+b]=y[b]\n",
    "    tem_str=\"\".join(tem_list)\n",
    "    return tem_str"
   ]
  },
  {
   "cell_type": "code",
   "execution_count": null,
   "metadata": {},
   "outputs": [],
   "source": [
    "def clicked(_, content, ignore):\n",
    "    global cur_img, file_list\n",
    "    if content['event'] == 'click':\n",
    "        data = content['eventData']\n",
    "        x = data['offsetX']\n",
    "        y = data['offsetY']\n",
    "        global i\n",
    "        snapshotWidget.value = cv2.imencode('.jpg', cv2.circle(cv2.imread(file_list[i], cv2.IMREAD_UNCHANGED), (x, y), 8, (0, 255, 0), 3))[1].tobytes()\n",
    "        new_name = edit_name(cur_img, (\"%03d\" %x), (\"%03d\" %y), 3, 3, 7)\n",
    "        os.rename(cur_img, new_name)\n",
    "        cur_img = new_name\n",
    "        file_list[i] = new_name\n",
    "        \n",
    "curImgWidget.on_msg(clicked)"
   ]
  },
  {
   "cell_type": "code",
   "execution_count": null,
   "metadata": {},
   "outputs": [],
   "source": [
    "#i = 0\n",
    "def PreImg(change):\n",
    "    global i\n",
    "    global cur_img, file_list\n",
    "    if (i != 0):\n",
    "        i -= 1\n",
    "        cur_img = file_list[i]\n",
    "        curImgWidget.value = cv2.imencode('.jpg', cv2.imread(cur_img, cv2.IMREAD_UNCHANGED))[1].tobytes()\n",
    "        originalXYWidget.value = annotate_img_cv2()\n",
    "        count_widget.value = i\n",
    "\n",
    "def NextImg(change):\n",
    "    global i\n",
    "    global cur_img, file_list\n",
    "    if (i != len(file_list) - 1):\n",
    "        i += 1\n",
    "        cur_img = file_list[i]\n",
    "        curImgWidget.value = cv2.imencode('.jpg', cv2.imread(cur_img, cv2.IMREAD_UNCHANGED))[1].tobytes()\n",
    "        originalXYWidget.value = annotate_img_cv2()\n",
    "        count_widget.value = i\n",
    "\n",
    "PreButt.on_click(PreImg)\n",
    "NextButt.on_click(NextImg)"
   ]
  },
  {
   "cell_type": "code",
   "execution_count": null,
   "metadata": {},
   "outputs": [],
   "source": [
    "originalXYWidget.value = annotate_img_cv2()\n",
    "display(ipywidgets.HBox([originalXYWidget, curImgWidget, snapshotWidget]), ipywidgets.HBox([PreButt, NextButt]), count_widget)"
   ]
  }
 ],
 "metadata": {
  "kernelspec": {
   "display_name": "Python 3",
   "language": "python",
   "name": "python3"
  },
  "language_info": {
   "codemirror_mode": {
    "name": "ipython",
    "version": 3
   },
   "file_extension": ".py",
   "mimetype": "text/x-python",
   "name": "python",
   "nbconvert_exporter": "python",
   "pygments_lexer": "ipython3",
   "version": "3.6.9"
  }
 },
 "nbformat": 4,
 "nbformat_minor": 5
}
