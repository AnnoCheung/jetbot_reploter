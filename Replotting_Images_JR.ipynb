{
 "cells": [
  {
   "cell_type": "markdown",
   "id": "106a0c5e",
   "metadata": {},
   "source": [
    "## JetRacer Version"
   ]
  },
  {
   "cell_type": "code",
   "execution_count": null,
   "id": "2abcc765",
   "metadata": {},
   "outputs": [],
   "source": [
    "from jupyter_clickable_image_widget import ClickableImageWidget\n",
    "\n",
    "import ipywidgets\n",
    "import traitlets\n",
    "import ipywidgets.widgets as widgets\n",
    "from IPython.display import display\n",
    "\n",
    "import cv2, os, glob"
   ]
  },
  {
   "cell_type": "code",
   "execution_count": null,
   "id": "d969996b",
   "metadata": {},
   "outputs": [],
   "source": [
    "try:\n",
    "    os.chdir('apex') # dataset's name goes here\n",
    "except:\n",
    "    pass\n",
    "file_list = glob.glob('*.jpg')\n",
    "i = 0\n",
    "cur_img = file_list[i]"
   ]
  },
  {
   "cell_type": "code",
   "execution_count": null,
   "id": "47553878",
   "metadata": {},
   "outputs": [],
   "source": [
    "#Change curImgWidget to ClickableImageWidget\n",
    "#curImgWidget = widgets.Image(width=224, length=224)\n",
    "curImgWidget = ClickableImageWidget(width=224, length=224)\n",
    "curImgWidget.value = cv2.imencode('.jpg', cv2.imread(cur_img, cv2.IMREAD_UNCHANGED))[1].tobytes()\n",
    "originalXYWidget = widgets.Image(width=224, length=224)\n",
    "snapshotWidget = widgets.Image(width=224, length=224)\n",
    "PreButt = widgets.Button(description='Previous Image')\n",
    "NextButt = widgets.Button(description='Next Image')\n",
    "\n",
    "count_widget = ipywidgets.IntText(description='Image Position')"
   ]
  },
  {
   "cell_type": "code",
   "execution_count": null,
   "id": "a072de13",
   "metadata": {},
   "outputs": [],
   "source": [
    "def annotate_img_cv2():\n",
    "    global cur_img\n",
    "    x = int(get_current_file_xy(cur_img)[0])\n",
    "    y = int(get_current_file_xy(cur_img)[1])\n",
    "    return cv2.imencode('.jpg', cv2.circle(cv2.imread(cur_img, cv2.IMREAD_UNCHANGED), (x, y), 8, (255, 0, 0), 3))[1].tobytes()"
   ]
  },
  {
   "cell_type": "code",
   "execution_count": null,
   "id": "9b19a0fa",
   "metadata": {},
   "outputs": [],
   "source": [
    "def get_current_file_xy(file_name):\n",
    "    num_1 , num_2 , number_ = 0 , 1 , 0\n",
    "    x, y = \"\", \"\"\n",
    "    \n",
    "    for i in file_name:\n",
    "        if i == \"_\":\n",
    "            number_ += 1\n",
    "            if number_ == 2:\n",
    "                break\n",
    "        if i != \"_\":\n",
    "            if number_ == 0:\n",
    "                num_1 += 1\n",
    "            num_2 += 1\n",
    "\n",
    "    for i in range(num_1):\n",
    "        x += file_name[i]\n",
    "    for i in range(num_1 + 1 , num_2):\n",
    "        y += file_name[i]\n",
    "    xy_list = [x, y]\n",
    "    return xy_list\n",
    "\n",
    "def edit_name(img_name, x, y):\n",
    "    xyList = get_current_file_xy(img_name)\n",
    "    curX, curY = xyList[0], xyList[1]\n",
    "    nameList = []\n",
    "    for i in img_name:\n",
    "        nameList.append(i)\n",
    "    for i in range(len(str(curX))):\n",
    "        nameList.pop(0)\n",
    "    for i in range(len(str(curY))):\n",
    "        nameList.pop(1)\n",
    "\n",
    "    for i in range(len(str(y))):\n",
    "        nameList.insert(i+1, str(y)[i])\n",
    "    for i in range(len(str(x))):\n",
    "        nameList.insert(i, str(x)[i])\n",
    "\n",
    "    name = \"\".join(nameList)\n",
    "    \n",
    "    return name"
   ]
  },
  {
   "cell_type": "code",
   "execution_count": null,
   "id": "ebf52389",
   "metadata": {},
   "outputs": [],
   "source": [
    "def clicked(_, content, ignore):\n",
    "    global cur_img, file_list\n",
    "    if content['event'] == 'click':\n",
    "        data = content['eventData']\n",
    "        x = data['offsetX']\n",
    "        y = data['offsetY']\n",
    "        global i\n",
    "        snapshotWidget.value = cv2.imencode('.jpg', cv2.circle(cv2.imread(file_list[i], cv2.IMREAD_UNCHANGED), (x, y), 8, (0, 255, 0), 3))[1].tobytes()\n",
    "        new_name = edit_name(cur_img, x, y)\n",
    "        os.rename(cur_img, new_name)\n",
    "        cur_img = new_name\n",
    "        file_list[i] = new_name\n",
    "        \n",
    "curImgWidget.on_msg(clicked)"
   ]
  },
  {
   "cell_type": "code",
   "execution_count": null,
   "id": "57de77e8",
   "metadata": {},
   "outputs": [],
   "source": [
    "#i = 0\n",
    "def PreImg(change):\n",
    "    global i\n",
    "    global cur_img, file_list\n",
    "    if (i != 0):\n",
    "        i -= 1\n",
    "        cur_img = file_list[i]\n",
    "        curImgWidget.value = cv2.imencode('.jpg', cv2.imread(cur_img, cv2.IMREAD_UNCHANGED))[1].tobytes()\n",
    "        originalXYWidget.value = annotate_img_cv2()\n",
    "        count_widget.value = i\n",
    "\n",
    "def NextImg(change):\n",
    "    global i\n",
    "    global cur_img, file_list\n",
    "    if (i != len(file_list) - 1):\n",
    "        i += 1\n",
    "        cur_img = file_list[i]\n",
    "        curImgWidget.value = cv2.imencode('.jpg', cv2.imread(cur_img, cv2.IMREAD_UNCHANGED))[1].tobytes()\n",
    "        originalXYWidget.value = annotate_img_cv2()\n",
    "        count_widget.value = i\n",
    "\n",
    "PreButt.on_click(PreImg)\n",
    "NextButt.on_click(NextImg)"
   ]
  },
  {
   "cell_type": "code",
   "execution_count": null,
   "id": "343c0c62",
   "metadata": {},
   "outputs": [],
   "source": [
    "originalXYWidget.value = annotate_img_cv2()\n",
    "display(ipywidgets.HBox([originalXYWidget, curImgWidget, snapshotWidget]), ipywidgets.HBox([PreButt, NextButt]), count_widget)"
   ]
  }
 ],
 "metadata": {
  "kernelspec": {
   "display_name": "Python 3 (ipykernel)",
   "language": "python",
   "name": "python3"
  },
  "language_info": {
   "codemirror_mode": {
    "name": "ipython",
    "version": 3
   },
   "file_extension": ".py",
   "mimetype": "text/x-python",
   "name": "python",
   "nbconvert_exporter": "python",
   "pygments_lexer": "ipython3",
   "version": "3.11.6"
  }
 },
 "nbformat": 4,
 "nbformat_minor": 5
}
