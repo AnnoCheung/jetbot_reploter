{
 "cells": [
  {
   "cell_type": "markdown",
   "id": "106a0c5e",
   "metadata": {},
   "source": [
    "# JetRacer Version"
   ]
  },
  {
   "cell_type": "code",
   "execution_count": 2,
   "id": "2abcc765",
   "metadata": {},
   "outputs": [],
   "source": [
    "#from jupyter_clickable_image_widget import ClickableImageWidget\n",
    "\n",
    "import ipywidgets\n",
    "import traitlets\n",
    "import ipywidgets.widgets as widgets\n",
    "from IPython.display import display\n",
    "\n",
    "import cv2, os, glob"
   ]
  },
  {
   "cell_type": "code",
   "execution_count": 3,
   "id": "d969996b",
   "metadata": {},
   "outputs": [],
   "source": [
    "try:\n",
    "    os.chdir('apex_test') # dataset's name goes here\n",
    "except:\n",
    "    pass\n",
    "file_list = glob.glob('*.jpg')\n",
    "i = 0\n",
    "cur_img = file_list[i]"
   ]
  },
  {
   "cell_type": "markdown",
   "id": "8b8dacf2-6fc3-49ca-8c82-21f882e80b01",
   "metadata": {},
   "source": [
    "### Widgets"
   ]
  },
  {
   "cell_type": "code",
   "execution_count": 4,
   "id": "7d10f1d4-2986-4940-b953-9bd798decd08",
   "metadata": {},
   "outputs": [],
   "source": [
    "#Change curImgWidget to ClickableImageWidget\n",
    "curImgWidget = widgets.Image(width=224, length=224)\n",
    "#curImgWidget = ClickableImageWidget(width=224, length=224)\n",
    "curImgWidget.value = cv2.imencode('.jpg', cv2.imread(cur_img, cv2.IMREAD_UNCHANGED))[1].tobytes()\n",
    "originalXYWidget = widgets.Image(width=224, length=224)\n",
    "snapshotWidget = widgets.Image(width=224, length=224)\n",
    "PreButt = widgets.Button(description='Previous Image')\n",
    "NextButt = widgets.Button(description='Next Image')\n",
    "\n",
    "count_widget = ipywidgets.IntText(description='Image Position')"
   ]
  },
  {
   "cell_type": "markdown",
   "id": "b8bfd62d-7591-4d8d-aa63-6a24baa3a60f",
   "metadata": {},
   "source": [
    "### Buttons"
   ]
  },
  {
   "cell_type": "code",
   "execution_count": 5,
   "id": "06048c29-b513-4d9e-9774-eedec3232242",
   "metadata": {},
   "outputs": [],
   "source": [
    "butt_layout = widgets.Layout(width='100px', height='80px', align_self='center')\n",
    "XRightButt = widgets.Button(description='X up', layout=butt_layout)\n",
    "XLeftButt = widgets.Button(description='X down', layout=butt_layout)\n",
    "YUpButt = widgets.Button(description='Y up', layout=butt_layout)\n",
    "YDownButt = widgets.Button(description='Y down', layout=butt_layout)\n",
    "blank_pad_butt = widgets.Button(layout=butt_layout)\n",
    "\n",
    "middle_box = widgets.HBox([XLeftButt, blank_pad_butt, XRightButt], layout=widgets.Layout(align_self='center'))\n",
    "posBox = widgets.VBox([YUpButt, middle_box, YDownButt])"
   ]
  },
  {
   "cell_type": "code",
   "execution_count": 6,
   "id": "a072de13",
   "metadata": {},
   "outputs": [],
   "source": [
    "def annotate_img_cv2():\n",
    "    global cur_img\n",
    "    x = int(get_current_file_xy(cur_img)[0])\n",
    "    y = int(get_current_file_xy(cur_img)[1])\n",
    "    return cv2.imencode('.jpg', cv2.circle(cv2.imread(cur_img, cv2.IMREAD_UNCHANGED), (x, y), 8, (255, 0, 0), 3))[1].tobytes()"
   ]
  },
  {
   "cell_type": "code",
   "execution_count": 7,
   "id": "9b19a0fa",
   "metadata": {},
   "outputs": [],
   "source": [
    "def get_current_file_xy(file_name):\n",
    "    num_1 , num_2 , number_ = 0 , 1 , 0\n",
    "    x, y = \"\", \"\"\n",
    "    \n",
    "    for i in file_name:\n",
    "        if i == \"_\":\n",
    "            number_ += 1\n",
    "            if number_ == 2:\n",
    "                break\n",
    "        if i != \"_\":\n",
    "            if number_ == 0:\n",
    "                num_1 += 1\n",
    "            num_2 += 1\n",
    "\n",
    "    for i in range(num_1):\n",
    "        x += file_name[i]\n",
    "    for i in range(num_1 + 1 , num_2):\n",
    "        y += file_name[i]\n",
    "    xy_list = [x, y]\n",
    "    return xy_list # return type is an array with two strings variables\n",
    "\n",
    "def edit_name(img_name, x, y):\n",
    "    xyList = get_current_file_xy(img_name)\n",
    "    curX, curY = xyList[0], xyList[1]\n",
    "    nameList = []\n",
    "    for i in img_name:\n",
    "        nameList.append(i)\n",
    "    for i in range(len(str(curX))):\n",
    "        nameList.pop(0)\n",
    "    for i in range(len(str(curY))):\n",
    "        nameList.pop(1)\n",
    "\n",
    "    for i in range(len(str(y))):\n",
    "        nameList.insert(i+1, str(y)[i])\n",
    "    for i in range(len(str(x))):\n",
    "        nameList.insert(i, str(x)[i])\n",
    "\n",
    "    name = \"\".join(nameList)\n",
    "    \n",
    "    return name"
   ]
  },
  {
   "cell_type": "code",
   "execution_count": 8,
   "id": "ebf52389",
   "metadata": {},
   "outputs": [],
   "source": [
    "def clicked(_, content, ignore):\n",
    "    global cur_img, file_list\n",
    "    if content['event'] == 'click':\n",
    "        data = content['eventData']\n",
    "        x = data['offsetX']\n",
    "        y = data['offsetY']\n",
    "        global i\n",
    "        snapshotWidget.value = cv2.imencode('.jpg', cv2.circle(cv2.imread(file_list[i], cv2.IMREAD_UNCHANGED), (x, y), 8, (0, 255, 0), 3))[1].tobytes()\n",
    "        new_name = edit_name(cur_img, x, y)\n",
    "        os.rename(cur_img, new_name)\n",
    "        cur_img = new_name\n",
    "        file_list[i] = new_name\n",
    "        \n",
    "curImgWidget.on_msg(clicked)"
   ]
  },
  {
   "cell_type": "code",
   "execution_count": 9,
   "id": "57de77e8",
   "metadata": {},
   "outputs": [],
   "source": [
    "#i = 0\n",
    "def PreImg(change):\n",
    "    global i\n",
    "    global cur_img, file_list\n",
    "    if (i != 0):\n",
    "        i -= 1\n",
    "        cur_img = file_list[i]\n",
    "        curImgWidget.value = cv2.imencode('.jpg', cv2.imread(cur_img, cv2.IMREAD_UNCHANGED))[1].tobytes()\n",
    "        originalXYWidget.value = annotate_img_cv2()\n",
    "        count_widget.value = i\n",
    "\n",
    "def NextImg(change):\n",
    "    global i\n",
    "    global cur_img, file_list\n",
    "    if (i != len(file_list) - 1):\n",
    "        i += 1\n",
    "        cur_img = file_list[i]\n",
    "        curImgWidget.value = cv2.imencode('.jpg', cv2.imread(cur_img, cv2.IMREAD_UNCHANGED))[1].tobytes()\n",
    "        originalXYWidget.value = annotate_img_cv2()\n",
    "        count_widget.value = i\n",
    "\n",
    "PreButt.on_click(PreImg)\n",
    "NextButt.on_click(NextImg)"
   ]
  },
  {
   "cell_type": "code",
   "execution_count": 10,
   "id": "ee09b064-b122-4e77-9b0b-d5d83aebbfa0",
   "metadata": {},
   "outputs": [],
   "source": [
    "def XLeft(ignore):\n",
    "    global cur_img, file_list, i\n",
    "    xyList = get_current_file_xy(cur_img)\n",
    "    if int(xyList[0]) > 0:\n",
    "        x, y = int(xyList[0]) - 1, int(xyList[1])\n",
    "        snapshotWidget.value = cv2.imencode('.jpg', cv2.circle(cv2.imread(file_list[i], cv2.IMREAD_UNCHANGED), (x, y), 8, (0, 255, 0), 3))[1].tobytes()\n",
    "        new_name = edit_name(cur_img, x, y)\n",
    "        os.rename(cur_img, new_name)\n",
    "        cur_img = new_name\n",
    "        file_list[i] = new_name\n",
    "\n",
    "def XRight(ignore):\n",
    "    global cur_img, file_list, i\n",
    "    xyList = get_current_file_xy(cur_img)\n",
    "    if int(xyList[0]) < 224:\n",
    "        x, y = int(xyList[0]) + 1, int(xyList[1])\n",
    "        snapshotWidget.value = cv2.imencode('.jpg', cv2.circle(cv2.imread(file_list[i], cv2.IMREAD_UNCHANGED), (x, y), 8, (0, 255, 0), 3))[1].tobytes()\n",
    "        new_name = edit_name(cur_img, x, y)\n",
    "        os.rename(cur_img, new_name)\n",
    "        cur_img = new_name\n",
    "        file_list[i] = new_name\n",
    "\n",
    "def YUp(ignore):\n",
    "    global cur_img, file_list, i\n",
    "    xyList = get_current_file_xy(cur_img)\n",
    "    if int(xyList[1]) > 0:\n",
    "        x, y = int(xyList[0]), int(xyList[1]) - 1\n",
    "        snapshotWidget.value = cv2.imencode('.jpg', cv2.circle(cv2.imread(file_list[i], cv2.IMREAD_UNCHANGED), (x, y), 8, (0, 255, 0), 3))[1].tobytes()\n",
    "        new_name = edit_name(cur_img, x, y)\n",
    "        os.rename(cur_img, new_name)\n",
    "        cur_img = new_name\n",
    "        file_list[i] = new_name\n",
    "\n",
    "def YDown(ignore):\n",
    "    global cur_img, file_list, i\n",
    "    xyList = get_current_file_xy(cur_img)\n",
    "    if int(xyList[1]) < 224:\n",
    "        x, y = int(xyList[0]), int(xyList[1]) + 1\n",
    "        snapshotWidget.value = cv2.imencode('.jpg', cv2.circle(cv2.imread(file_list[i], cv2.IMREAD_UNCHANGED), (x, y), 8, (0, 255, 0), 3))[1].tobytes()\n",
    "        new_name = edit_name(cur_img, x, y)\n",
    "        os.rename(cur_img, new_name)\n",
    "        cur_img = new_name\n",
    "        file_list[i] = new_name\n",
    "\n",
    "XLeftButt.on_click(XLeft)\n",
    "XRightButt.on_click(XRight)\n",
    "YUpButt.on_click(YUp)\n",
    "YDownButt.on_click(YDown)"
   ]
  },
  {
   "cell_type": "code",
   "execution_count": 11,
   "id": "343c0c62",
   "metadata": {},
   "outputs": [
    {
     "data": {
      "application/vnd.jupyter.widget-view+json": {
       "model_id": "32f878ee522b4631aba4c822ea2664c1",
       "version_major": 2,
       "version_minor": 0
      },
      "text/plain": [
       "HBox(children=(Image(value=b'\\xff\\xd8\\xff\\xe0\\x00\\x10JFIF\\x00\\x01\\x01\\x00\\x00\\x01\\x00\\x01\\x00\\x00\\xff\\xdb\\x00C…"
      ]
     },
     "metadata": {},
     "output_type": "display_data"
    },
    {
     "data": {
      "application/vnd.jupyter.widget-view+json": {
       "model_id": "d8c1b63e39b6494ebc7568543e15a16d",
       "version_major": 2,
       "version_minor": 0
      },
      "text/plain": [
       "HBox(children=(Button(description='Previous Image', style=ButtonStyle()), Button(description='Next Image', sty…"
      ]
     },
     "metadata": {},
     "output_type": "display_data"
    },
    {
     "data": {
      "application/vnd.jupyter.widget-view+json": {
       "model_id": "64f50413b9104597b9c0d7b5bef7d0e7",
       "version_major": 2,
       "version_minor": 0
      },
      "text/plain": [
       "IntText(value=0, description='Image Position')"
      ]
     },
     "metadata": {},
     "output_type": "display_data"
    }
   ],
   "source": [
    "originalXYWidget.value = annotate_img_cv2()\n",
    "display(widgets.HBox([originalXYWidget, curImgWidget, snapshotWidget, posBox]), widgets.HBox([PreButt, NextButt]), count_widget)"
   ]
  },
  {
   "cell_type": "code",
   "execution_count": null,
   "id": "2df08910-c9be-45f6-a225-d547e3dbe020",
   "metadata": {},
   "outputs": [],
   "source": []
  }
 ],
 "metadata": {
  "kernelspec": {
   "display_name": "Python 3 (ipykernel)",
   "language": "python",
   "name": "python3"
  },
  "language_info": {
   "codemirror_mode": {
    "name": "ipython",
    "version": 3
   },
   "file_extension": ".py",
   "mimetype": "text/x-python",
   "name": "python",
   "nbconvert_exporter": "python",
   "pygments_lexer": "ipython3",
   "version": "3.11.6"
  }
 },
 "nbformat": 4,
 "nbformat_minor": 5
}
