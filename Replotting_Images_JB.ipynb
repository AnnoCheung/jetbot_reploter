{
 "cells": [
  {
   "cell_type": "markdown",
   "id": "198e5f67",
   "metadata": {},
   "source": [
    "# JetBot Version"
   ]
  },
  {
   "cell_type": "code",
   "execution_count": null,
   "id": "3bde6260",
   "metadata": {},
   "outputs": [],
   "source": [
    "from jupyter_clickable_image_widget import ClickableImageWidget\n",
    "\n",
    "import ipywidgets\n",
    "import traitlets\n",
    "import ipywidgets.widgets as widgets\n",
    "from IPython.display import display\n",
    "\n",
    "import cv2, os, glob"
   ]
  },
  {
   "cell_type": "code",
   "execution_count": null,
   "id": "e7997a9c",
   "metadata": {},
   "outputs": [],
   "source": [
    "try:\n",
    "    os.chdir('dataset_xy_5') # dataset's name goes here\n",
    "except:\n",
    "    pass\n",
    "file_list = glob.glob('*.jpg')\n",
    "\n",
    "i = 0\n",
    "cur_img = file_list[i]"
   ]
  },
  {
   "cell_type": "markdown",
   "id": "586e1f8a-6bab-4cab-a43b-fa20664e310c",
   "metadata": {},
   "source": [
    "### Widgets"
   ]
  },
  {
   "cell_type": "code",
   "execution_count": null,
   "id": "0340f461",
   "metadata": {},
   "outputs": [],
   "source": [
    "#Change curImgWidget to ClickableImageWidget\n",
    "#curImgWidget = widgets.Image(width=224, length=224)\n",
    "curImgWidget = ClickableImageWidget(width=224, length=224)\n",
    "curImgWidget.value = cv2.imencode('.jpg', cv2.imread(cur_img, cv2.IMREAD_UNCHANGED))[1].tobytes()\n",
    "originalXYWidget = widgets.Image(width=224, length=224)\n",
    "snapshotWidget = widgets.Image(width=224, length=224)\n",
    "PreButt = widgets.Button(description='Previous Image')\n",
    "NextButt = widgets.Button(description='Next Image')\n",
    "\n",
    "count_widget = ipywidgets.IntText(description='Image Position')"
   ]
  },
  {
   "cell_type": "markdown",
   "id": "e3a3602e-6ea8-452d-905e-d662af925320",
   "metadata": {},
   "source": [
    "### Buttons"
   ]
  },
  {
   "cell_type": "code",
   "execution_count": null,
   "id": "65d75c29-1e66-47e2-b613-b338d22ac423",
   "metadata": {},
   "outputs": [],
   "source": [
    "butt_layout = widgets.Layout(width='100px', height='80px', align_self='center')\n",
    "XRightButt = widgets.Button(description='X up', layout=butt_layout)\n",
    "XLeftButt = widgets.Button(description='X down', layout=butt_layout)\n",
    "YUpButt = widgets.Button(description='Y up', layout=butt_layout)\n",
    "YDownButt = widgets.Button(description='Y down', layout=butt_layout)\n",
    "blank_pad_butt = widgets.Button(layout=butt_layout)\n",
    "\n",
    "middle_box = widgets.HBox([XLeftButt, blank_pad_butt, XRightButt], layout=widgets.Layout(align_self='center'))\n",
    "posBox = widgets.VBox([YUpButt, middle_box, YDownButt])"
   ]
  },
  {
   "cell_type": "code",
   "execution_count": null,
   "id": "2131a45f",
   "metadata": {},
   "outputs": [],
   "source": [
    "def annotate_img_cv2(xy, *bgr):\n",
    "    global cur_img\n",
    "    x, y = int(xy[0]), int(xy[1])\n",
    "    return cv2.imencode('.jpg', cv2.circle(cv2.imread(cur_img, cv2.IMREAD_UNCHANGED), (x, y), 8, *bgr, 3))[1].tobytes()"
   ]
  },
  {
   "cell_type": "code",
   "execution_count": null,
   "id": "e2378078",
   "metadata": {},
   "outputs": [],
   "source": [
    "def get_current_file_xy(file_name):\n",
    "    xy_list = [file_name[3] + file_name[4] + file_name[5], file_name[7] + file_name[8] + file_name[9]]\n",
    "    return xy_list # return type is an array with two strings variables\n",
    "\n",
    "def edit_name(img_name, x, y, xy_len, start_x, start_y):\n",
    "    tem_list=[]\n",
    "    tem_str=\"\"\n",
    "    for b in img_name:\n",
    "        tem_list.append(b)\n",
    "    for b in range(xy_len):\n",
    "        tem_list[(start_x)+b]=x[b]\n",
    "    for b in range(xy_len):\n",
    "        tem_list[(start_y)+b]=y[b]\n",
    "    tem_str=\"\".join(tem_list)\n",
    "    return tem_str"
   ]
  },
  {
   "cell_type": "code",
   "execution_count": null,
   "id": "c0f6d47f",
   "metadata": {},
   "outputs": [],
   "source": [
    "def clicked(_, content, ignore):\n",
    "    global cur_img, file_list\n",
    "    if content['event'] == 'click':\n",
    "        data = content['eventData']\n",
    "        x = data['offsetX']\n",
    "        y = data['offsetY']\n",
    "        global i\n",
    "        snapshotWidget.value = annotate_img_cv2([x, y], (201, 174, 255))\n",
    "        new_name = edit_name(cur_img, (\"%03d\" %x), (\"%03d\" %y), 3, 3, 7)\n",
    "        os.rename(cur_img, new_name)\n",
    "        cur_img = new_name\n",
    "        file_list[i] = new_name\n",
    "        \n",
    "curImgWidget.on_msg(clicked)"
   ]
  },
  {
   "cell_type": "markdown",
   "id": "daf0d80c-c542-49e5-809b-d0576ba02dfd",
   "metadata": {},
   "source": [
    "### Button controls"
   ]
  },
  {
   "cell_type": "code",
   "execution_count": null,
   "id": "277ef47d",
   "metadata": {},
   "outputs": [],
   "source": [
    "def PreImg(ignore):\n",
    "    global i\n",
    "    global cur_img, file_list\n",
    "    if (i != 0):\n",
    "        i -= 1\n",
    "        cur_img = file_list[i]\n",
    "        curImgWidget.value = cv2.imencode('.jpg', cv2.imread(cur_img, cv2.IMREAD_UNCHANGED))[1].tobytes()\n",
    "        originalXYWidget.value = annotate_img_cv2(get_current_file_xy(cur_img), (255, 0, 0))\n",
    "        count_widget.value = i\n",
    "\n",
    "def NextImg(ignore):\n",
    "    global i\n",
    "    global cur_img, file_list\n",
    "    if (i != len(file_list) - 1):\n",
    "        i += 1\n",
    "        cur_img = file_list[i]\n",
    "        curImgWidget.value = cv2.imencode('.jpg', cv2.imread(cur_img, cv2.IMREAD_UNCHANGED))[1].tobytes()\n",
    "        originalXYWidget.value = annotate_img_cv2(get_current_file_xy(cur_img), (255, 0, 0))\n",
    "        count_widget.value = i\n",
    "\n",
    "PreButt.on_click(PreImg)\n",
    "NextButt.on_click(NextImg)"
   ]
  },
  {
   "cell_type": "code",
   "execution_count": null,
   "id": "62eaa702-154d-4aa0-af3c-57842daafa33",
   "metadata": {},
   "outputs": [],
   "source": [
    "def XLeft(ignore):\n",
    "    global cur_img, file_list, i\n",
    "    xyList = get_current_file_xy(cur_img)\n",
    "    x, y = int(xyList[0]), int(xyList[1])\n",
    "    if int(xyList[0]) > 0:\n",
    "        x = int(xyList[0]) - 1\n",
    "        snapshotWidget.value = annotate_img_cv2([x, y], (201, 174, 255))\n",
    "        new_name = edit_name(cur_img, (\"%03d\" %x), (\"%03d\" %y), 3, 3, 7)\n",
    "        os.rename(cur_img, new_name)\n",
    "        cur_img = new_name\n",
    "        file_list[i] = new_name\n",
    "    else:\n",
    "        snapshotWidget.value = annotate_img_cv2([x, y], (201, 174, 255))\n",
    "        \n",
    "\n",
    "def XRight(ignore):\n",
    "    global cur_img, file_list, i\n",
    "    xyList = get_current_file_xy(cur_img)\n",
    "    x, y = int(xyList[0]), int(xyList[1])\n",
    "    if int(xyList[0]) < 224:\n",
    "        x = int(xyList[0]) + 1\n",
    "        snapshotWidget.value = annotate_img_cv2([x, y], (201, 174, 255))\n",
    "        new_name = edit_name(cur_img, (\"%03d\" %x), (\"%03d\" %y), 3, 3, 7)\n",
    "        os.rename(cur_img, new_name)\n",
    "        cur_img = new_name\n",
    "        file_list[i] = new_name\n",
    "    else:\n",
    "        snapshotWidget.value = annotate_img_cv2([x, y], (201, 174, 255))\n",
    "\n",
    "def YUp(ignore):\n",
    "    global cur_img, file_list, i\n",
    "    xyList = get_current_file_xy(cur_img)\n",
    "    x, y = int(xyList[0]), int(xyList[1])\n",
    "    if int(xyList[1]) > 0:\n",
    "        y = int(xyList[1]) - 1\n",
    "        snapshotWidget.value = annotate_img_cv2([x, y], (201, 174, 255))\n",
    "        new_name = edit_name(cur_img, (\"%03d\" %x), (\"%03d\" %y), 3, 3, 7)\n",
    "        os.rename(cur_img, new_name)\n",
    "        cur_img = new_name\n",
    "        file_list[i] = new_name\n",
    "    else:\n",
    "        snapshotWidget.value = annotate_img_cv2([x, y], (201, 174, 255))\n",
    "\n",
    "def YDown(ignore):\n",
    "    global cur_img, file_list, i\n",
    "    xyList = get_current_file_xy(cur_img)\n",
    "    x, y = int(xyList[0]), int(xyList[1])\n",
    "    if int(xyList[1]) < 224:\n",
    "        y = int(xyList[1]) + 1\n",
    "        snapshotWidget.value = annotate_img_cv2([x, y], (201, 174, 255))\n",
    "        new_name = edit_name(cur_img, (\"%03d\" %x), (\"%03d\" %y), 3, 3, 7)\n",
    "        os.rename(cur_img, new_name)\n",
    "        cur_img = new_name\n",
    "        file_list[i] = new_name\n",
    "    else:\n",
    "        snapshotWidget.value = annotate_img_cv2([x, y], (201, 174, 255))\n",
    "\n",
    "XLeftButt.on_click(XLeft)\n",
    "XRightButt.on_click(XRight)\n",
    "YUpButt.on_click(YUp)\n",
    "YDownButt.on_click(YDown)"
   ]
  },
  {
   "cell_type": "code",
   "execution_count": null,
   "id": "695b350c",
   "metadata": {},
   "outputs": [],
   "source": [
    "originalXYWidget.value = annotate_img_cv2(get_current_file_xy(cur_img), (255, 0, 0))\n",
    "display(widgets.HBox([originalXYWidget, curImgWidget, snapshotWidget, posBox]), widgets.HBox([PreButt, NextButt]), count_widget)"
   ]
  },
  {
   "cell_type": "code",
   "execution_count": null,
   "id": "7f98ad15-b4ca-4021-8c6f-e320a1fee171",
   "metadata": {},
   "outputs": [],
   "source": []
  }
 ],
 "metadata": {
  "kernelspec": {
   "display_name": "Python 3 (ipykernel)",
   "language": "python",
   "name": "python3"
  },
  "language_info": {
   "codemirror_mode": {
    "name": "ipython",
    "version": 3
   },
   "file_extension": ".py",
   "mimetype": "text/x-python",
   "name": "python",
   "nbconvert_exporter": "python",
   "pygments_lexer": "ipython3",
   "version": "3.11.6"
  }
 },
 "nbformat": 4,
 "nbformat_minor": 5
}
